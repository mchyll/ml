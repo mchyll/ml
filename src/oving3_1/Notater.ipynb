{
 "cells": [
  {
   "cell_type": "code",
   "execution_count": 2,
   "metadata": {},
   "outputs": [
    {
     "data": {
      "text/plain": [
       "'C:\\\\Users\\\\Magnus\\\\Programmering\\\\ml\\\\src\\\\oving3_1'"
      ]
     },
     "execution_count": 2,
     "metadata": {},
     "output_type": "execute_result"
    }
   ],
   "source": [
    "from IPython.core.interactiveshell import InteractiveShell\n",
    "InteractiveShell.ast_node_interactivity = \"all\"\n",
    "\n",
    "import os\n",
    "os.getcwd()"
   ]
  },
  {
   "cell_type": "code",
   "execution_count": 1,
   "metadata": {},
   "outputs": [
    {
     "name": "stdout",
     "output_type": "stream",
     "text": [
      "| edibility | cap-shape | cap-surface | cap-color | bruises? | odor | gill-attachment | gill-spacing | gill-size | gill-color | stalk-shape | stalk-root | stalk-surface-above-ring | stalk-surface-below-ring | stalk-color-above-ring | stalk-color-below-ring | veil-type | veil-color | ring-number | ring-type | spore-print-color | population | habitat |\n",
      "|-|-|-|-|-|-|-|-|-|-|-|-|-|-|-|-|-|-|-|-|-|-|-|\n",
      "| edible=e<br>poisonous=p | bell=b<br>conical=c<br>convex=x<br>flat=f<br>knobbed=k<br>sunken=s | fibrous=f<br>grooves=g<br>scaly=y<br>smooth=s | brown=n<br>buff=b<br>cinnamon=c<br>gray=g<br>green=r<br>pink=p<br>purple=u<br>red=e<br>white=w<br>yellow=y | bruises=t<br>no=f | almond=a<br>anise=l<br>creosote=c<br>fishy=y<br>foul=f<br>musty=m<br>none=n<br>pungent=p<br>spicy=s | attached=a<br>descending=d<br>free=f<br>notched=n | close=c<br>crowded=w<br>distant=d | broad=b<br>narrow=n | black=k<br>brown=n<br>buff=b<br>chocolate=h<br>gray=g<br>green=r<br>orange=o<br>pink=p<br>purple=u<br>red=e<br>white=w<br>yellow=y | enlarging=e<br>tapering=t | bulbous=b<br>club=c<br>cup=u<br>equal=e<br>rhizomorphs=z<br>rooted=r<br>missing=? | fibrous=f<br>scaly=y<br>silky=k<br>smooth=s | fibrous=f<br>scaly=y<br>silky=k<br>smooth=s | brown=n<br>buff=b<br>cinnamon=c<br>gray=g<br>orange=o<br>pink=p<br>red=e<br>white=w<br>yellow=y | brown=n<br>buff=b<br>cinnamon=c<br>gray=g<br>orange=o<br>pink=p<br>red=e<br>white=w<br>yellow=y | partial=p<br>universal=u | brown=n<br>orange=o<br>white=w<br>yellow=y | none=n<br>one=o<br>two=t | cobwebby=c<br>evanescent=e<br>flaring=f<br>large=l<br>none=n<br>pendant=p<br>sheathing=s<br>zone=z | black=k<br>brown=n<br>buff=b<br>chocolate=h<br>green=r<br>orange=o<br>purple=u<br>white=w<br>yellow=y | abundant=a<br>clustered=c<br>numerous=n<br>scattered=s<br>several=v<br>solitary=y | grasses=g<br>leaves=l<br>meadows=m<br>paths=p<br>urban=u<br>waste=w<br>woods=d |\n",
      "\n"
     ]
    }
   ],
   "source": [
    "import re\n",
    "\n",
    "raw = '''0. edibility: edible=e,poisonous=p\n",
    "1. cap-shape: bell=b,conical=c,convex=x,flat=f, knobbed=k,sunken=s \n",
    "2. cap-surface: fibrous=f,grooves=g,scaly=y,smooth=s \n",
    "3. cap-color: brown=n,buff=b,cinnamon=c,gray=g,green=r, pink=p,purple=u,red=e,white=w,yellow=y \n",
    "4. bruises?: bruises=t,no=f \n",
    "5. odor: almond=a,anise=l,creosote=c,fishy=y,foul=f, musty=m,none=n,pungent=p,spicy=s \n",
    "6. gill-attachment: attached=a,descending=d,free=f,notched=n \n",
    "7. gill-spacing: close=c,crowded=w,distant=d \n",
    "8. gill-size: broad=b,narrow=n \n",
    "9. gill-color: black=k,brown=n,buff=b,chocolate=h,gray=g, green=r,orange=o,pink=p,purple=u,red=e, white=w,yellow=y \n",
    "10. stalk-shape: enlarging=e,tapering=t \n",
    "11. stalk-root: bulbous=b,club=c,cup=u,equal=e, rhizomorphs=z,rooted=r,missing=? \n",
    "12. stalk-surface-above-ring: fibrous=f,scaly=y,silky=k,smooth=s \n",
    "13. stalk-surface-below-ring: fibrous=f,scaly=y,silky=k,smooth=s \n",
    "14. stalk-color-above-ring: brown=n,buff=b,cinnamon=c,gray=g,orange=o, pink=p,red=e,white=w,yellow=y \n",
    "15. stalk-color-below-ring: brown=n,buff=b,cinnamon=c,gray=g,orange=o, pink=p,red=e,white=w,yellow=y \n",
    "16. veil-type: partial=p,universal=u \n",
    "17. veil-color: brown=n,orange=o,white=w,yellow=y \n",
    "18. ring-number: none=n,one=o,two=t \n",
    "19. ring-type: cobwebby=c,evanescent=e,flaring=f,large=l, none=n,pendant=p,sheathing=s,zone=z \n",
    "20. spore-print-color: black=k,brown=n,buff=b,chocolate=h,green=r, orange=o,purple=u,white=w,yellow=y \n",
    "21. population: abundant=a,clustered=c,numerous=n, scattered=s,several=v,solitary=y \n",
    "22. habitat: grasses=g,leaves=l,meadows=m,paths=p, urban=u,waste=w,woods=d'''\n",
    "\n",
    "names = []\n",
    "values = []\n",
    "for line in raw.splitlines():\n",
    "    name, value = re.search('\\d+[. ]*([\\w\\-?]+):\\s*(.*)', line).group(1, 2)\n",
    "    names.append(name)\n",
    "    values.append('<br>'.join(re.split(', *', value.strip())))\n",
    "\n",
    "markdown = '| ' + ' | '.join(names) + ' |\\n'\n",
    "markdown += '-'.join(['|'] * (len(names) + 1)) + '\\n'\n",
    "markdown += '| ' + ' | '.join(values) + ' |\\n'\n",
    "print(markdown)"
   ]
  },
  {
   "cell_type": "markdown",
   "metadata": {},
   "source": [
    "| Num | Feature | Value |\n",
    "|-----|---------|-------|\n",
    "| 1.  | cap-shape:                | bell=b <br> conical=c <br> convex=x <br> flat=f <br> knobbed=k <br> sunken=s |\n",
    "| 2.  | cap-surface:              | fibrous=f <br> grooves=g <br> scaly=y <br> smooth=s |\n",
    "| 3.  | cap-color:                | brown=n<br>buff=b<br>cinnamon=c<br>gray=g<br>green=r<br>pink=p<br>purple=u<br>red=e<br>white=w<br>yellow=y |\n",
    "| 4.  | bruises?:                 | bruises=t<br>no=f |\n",
    "| 5.  | odor:                     | almond=a<br>anise=l<br>creosote=c<br>fishy=y<br>foul=f<br>musty=m<br>none=n<br>pungent=p<br>spicy=s |\n",
    "| 6.  | gill-attachment:          | attached=a<br>descending=d<br>free=f<br>notched=n |\n",
    "| 7.  | gill-spacing:             | close=c<br>crowded=w<br>distant=d |\n",
    "| 8.  | gill-size:                | broad=b<br>narrow=n |\n",
    "| 9.  | gill-color:               | black=k<br>brown=n<br>buff=b<br>chocolate=h<br>gray=g<br> green=r<br>orange=o<br>pink=p<br>purple=u<br>red=e<br>white=w<br>yellow=y |\n",
    "| 10. | stalk-shape:              | enlarging=e<br>tapering=t |\n",
    "| 11. | stalk-root:               | bulbous=b<br>club=c<br>cup=u<br>equal=e<br>rhizomorphs=z<br>rooted=r<br>missing=? |\n",
    "| 12. | stalk-surface-above-ring: | fibrous=f<br>scaly=y<br>silky=k<br>smooth=s |\n",
    "| 13. | stalk-surface-below-ring: | fibrous=f<br>scaly=y<br>silky=k<br>smooth=s |\n",
    "| 14. | stalk-color-above-ring:   | brown=n<br>buff=b<br>cinnamon=c<br>gray=g<br>orange=o<br>pink=p<br>red=e<br>white=w<br>yellow=y |\n",
    "| 15. | stalk-color-below-ring:   | brown=n<br>buff=b<br>cinnamon=c<br>gray=g<br>orange=o<br>pink=p<br>red=e<br>white=w<br>yellow=y |\n",
    "| 16. | veil-type:                | partial=p<br>universal=u |\n",
    "| 17. | veil-color:               | brown=n<br>orange=o<br>white=w<br>yellow=y |\n",
    "| 18. | ring-number:              | none=n<br>one=o<br>two=t |\n",
    "| 19. | ring-type:                | cobwebby=c<br>evanescent=e<br>flaring=f<br>large=l<br>none=n<br>pendant=p<br>sheathing=s<br>zone=z |\n",
    "| 20. | spore-print-color:        | black=k<br>brown=n<br>buff=b<br>chocolate=h<br>green=r<br>orange=o<br>purple=u<br>white=w<br>yellow=y |\n",
    "| 21. | population:               | abundant=a<br>clustered=c<br>numerous=n<br>scattered=s<br>several=v<br>solitary=y |\n",
    "| 22. | habitat:                  | grasses=g<br>leaves=l<br>meadows=m<br>paths=p<br>urban=u<br>waste=w<br>woods=d |"
   ]
  },
  {
   "cell_type": "code",
   "execution_count": 3,
   "metadata": {},
   "outputs": [
    {
     "name": "stdout",
     "output_type": "stream",
     "text": [
      "Sel: 2 <class 'int'>\n",
      "Sel: slice(2, 4, None) <class 'slice'>\n",
      "Sel: slice(2, 4, 5) <class 'slice'>\n",
      "Sel: (slice(1, 4, None), 2) <class 'tuple'>\n",
      "Sel: [False, False, True] <class 'list'>\n"
     ]
    }
   ],
   "source": [
    "class Cmp:\n",
    "    def __init__(self, val):\n",
    "        self.val = val\n",
    "        \n",
    "    def __gt__(self, val):\n",
    "        return [x > val for x in self.val]\n",
    "\n",
    "\n",
    "class Test:\n",
    "    def __getitem__(self, sel):\n",
    "        print('Sel:', sel, type(sel))\n",
    "\n",
    "t = Test()\n",
    "t[2]\n",
    "t[2:4]\n",
    "t[2:4:5]\n",
    "t[1:4, 2]\n",
    "\n",
    "c = Cmp([1, 2, 3])\n",
    "t[c > 2]"
   ]
  },
  {
   "cell_type": "code",
   "execution_count": 2,
   "metadata": {},
   "outputs": [
    {
     "data": {
      "text/plain": [
       "['alt.atheism',\n",
       " 'comp.graphics',\n",
       " 'comp.os.ms-windows.misc',\n",
       " 'comp.sys.ibm.pc.hardware',\n",
       " 'comp.sys.mac.hardware',\n",
       " 'comp.windows.x',\n",
       " 'misc.forsale',\n",
       " 'rec.autos',\n",
       " 'rec.motorcycles',\n",
       " 'rec.sport.baseball',\n",
       " 'rec.sport.hockey',\n",
       " 'sci.crypt',\n",
       " 'sci.electronics',\n",
       " 'sci.med',\n",
       " 'sci.space',\n",
       " 'soc.religion.christian',\n",
       " 'talk.politics.guns',\n",
       " 'talk.politics.mideast',\n",
       " 'talk.politics.misc',\n",
       " 'talk.religion.misc']"
      ]
     },
     "execution_count": 2,
     "metadata": {},
     "output_type": "execute_result"
    }
   ],
   "source": [
    "from sklearn.datasets import fetch_20newsgroups\n",
    "newsgroups = fetch_20newsgroups(subset='all', remove=('headers', 'footers', 'quotes')) # all, train, test\n",
    "# List the categories (topics)\n",
    "newsgroups.target_names"
   ]
  },
  {
   "cell_type": "code",
   "execution_count": 11,
   "metadata": {},
   "outputs": [
    {
     "name": "stdout",
     "output_type": "stream",
     "text": [
      "<class 'sklearn.utils.Bunch'>\n",
      "<class 'list'>\n"
     ]
    },
    {
     "data": {
      "text/plain": [
       "(18846,)"
      ]
     },
     "execution_count": 11,
     "metadata": {},
     "output_type": "execute_result"
    }
   ],
   "source": [
    "import numpy as np\n",
    "print(type(newsgroups))\n",
    "print(type(newsgroups.data))\n",
    "np.shape(newsgroups.target)"
   ]
  },
  {
   "cell_type": "markdown",
   "metadata": {},
   "source": [
    "**Dummy-coding:** Nesten samme som one-hot, men trenger bare `n-1` elementer i vektoren siden `[0, 0, ..., 0]` brukes som en kategori."
   ]
  },
  {
   "cell_type": "code",
   "execution_count": 14,
   "metadata": {},
   "outputs": [
    {
     "data": {
      "text/plain": [
       "scipy.sparse.csr.csr_matrix"
      ]
     },
     "execution_count": 14,
     "metadata": {},
     "output_type": "execute_result"
    }
   ],
   "source": [
    "from sklearn.feature_extraction.text import CountVectorizer\n",
    "vec = CountVectorizer()\n",
    "dtm = vec.fit_transform(data)\n",
    "type(dtm)"
   ]
  }
 ],
 "metadata": {
  "kernelspec": {
   "display_name": "Python 3",
   "language": "python",
   "name": "python3"
  },
  "language_info": {
   "codemirror_mode": {
    "name": "ipython",
    "version": 3
   },
   "file_extension": ".py",
   "mimetype": "text/x-python",
   "name": "python",
   "nbconvert_exporter": "python",
   "pygments_lexer": "ipython3",
   "version": "3.6.3"
  }
 },
 "nbformat": 4,
 "nbformat_minor": 2
}
